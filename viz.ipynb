{
 "cells": [
  {
   "cell_type": "code",
   "execution_count": 1,
   "metadata": {},
   "outputs": [
    {
     "name": "stdout",
     "output_type": "stream",
     "text": [
      "['bmh', 'classic', 'dark_background', 'fast', 'fivethirtyeight', 'ggplot', 'grayscale', 'seaborn-bright', 'seaborn-colorblind', 'seaborn-dark-palette', 'seaborn-dark', 'seaborn-darkgrid', 'seaborn-deep', 'seaborn-muted', 'seaborn-notebook', 'seaborn-paper', 'seaborn-pastel', 'seaborn-poster', 'seaborn-talk', 'seaborn-ticks', 'seaborn-white', 'seaborn-whitegrid', 'seaborn', 'Solarize_Light2', 'tableau-colorblind10', '_classic_test']\n"
     ]
    }
   ],
   "source": [
    "import numpy as np\n",
    "import pandas as pd\n",
    "import matplotlib.pyplot as plt\n",
    "%matplotlib inline\n",
    "plt.style.use('fivethirtyeight') # pick your style\n",
    "print(plt.style.available)"
   ]
  },
  {
   "cell_type": "code",
   "execution_count": 2,
   "metadata": {},
   "outputs": [],
   "source": [
    "df = pd.read_csv(\"printerData.csv\", index_col=0)"
   ]
  },
  {
   "cell_type": "code",
   "execution_count": 8,
   "metadata": {},
   "outputs": [
    {
     "data": {
      "text/plain": [
       "['Timestamp',\n",
       " 'person',\n",
       " 'department',\n",
       " 'role',\n",
       " 'part',\n",
       " 'purpose',\n",
       " 'Please upload the STL file of the part you are printing',\n",
       " 'MaterialOne',\n",
       " 'MaterialTwo',\n",
       " 'AmountOne',\n",
       " 'AmountTwo',\n",
       " 'time',\n",
       " 'Cost',\n",
       " 'printer',\n",
       " 'machine']"
      ]
     },
     "execution_count": 8,
     "metadata": {},
     "output_type": "execute_result"
    }
   ],
   "source": [
    "list(df)"
   ]
  },
  {
   "cell_type": "code",
   "execution_count": 3,
   "metadata": {},
   "outputs": [
    {
     "data": {
      "text/html": [
       "<div>\n",
       "<style scoped>\n",
       "    .dataframe tbody tr th:only-of-type {\n",
       "        vertical-align: middle;\n",
       "    }\n",
       "\n",
       "    .dataframe tbody tr th {\n",
       "        vertical-align: top;\n",
       "    }\n",
       "\n",
       "    .dataframe thead th {\n",
       "        text-align: right;\n",
       "    }\n",
       "</style>\n",
       "<table border=\"1\" class=\"dataframe\">\n",
       "  <thead>\n",
       "    <tr style=\"text-align: right;\">\n",
       "      <th></th>\n",
       "      <th>Timestamp</th>\n",
       "      <th>person</th>\n",
       "      <th>department</th>\n",
       "      <th>role</th>\n",
       "      <th>part</th>\n",
       "      <th>purpose</th>\n",
       "      <th>Please upload the STL file of the part you are printing</th>\n",
       "      <th>MaterialOne</th>\n",
       "      <th>MaterialTwo</th>\n",
       "      <th>AmountOne</th>\n",
       "      <th>AmountTwo</th>\n",
       "      <th>time</th>\n",
       "      <th>Cost</th>\n",
       "      <th>printer</th>\n",
       "      <th>machine</th>\n",
       "    </tr>\n",
       "  </thead>\n",
       "  <tbody>\n",
       "    <tr>\n",
       "      <th>1</th>\n",
       "      <td>11</td>\n",
       "      <td>Student</td>\n",
       "      <td>Mechanical</td>\n",
       "      <td>Student Org.</td>\n",
       "      <td>Wind Turbine Blade</td>\n",
       "      <td>WiscWind - Wind Turbine Competition Research</td>\n",
       "      <td>https://drive.google.com/open?id=1YOU968q45hsf...</td>\n",
       "      <td>PLA</td>\n",
       "      <td>None</td>\n",
       "      <td>20.0</td>\n",
       "      <td>0.0</td>\n",
       "      <td>5:47:00</td>\n",
       "      <td>1.32</td>\n",
       "      <td>Dodo</td>\n",
       "      <td>Ultimaker - Cura</td>\n",
       "    </tr>\n",
       "    <tr>\n",
       "      <th>2</th>\n",
       "      <td>14</td>\n",
       "      <td>Student</td>\n",
       "      <td>Mechanical</td>\n",
       "      <td>Research</td>\n",
       "      <td>Aneurysm model</td>\n",
       "      <td>Research project for graduate student</td>\n",
       "      <td>https://drive.google.com/open?id=1AQmFRaGLq_Ar...</td>\n",
       "      <td>PVA</td>\n",
       "      <td>None</td>\n",
       "      <td>45.0</td>\n",
       "      <td>0.0</td>\n",
       "      <td>12:19:00</td>\n",
       "      <td>5.85</td>\n",
       "      <td>Kiwi</td>\n",
       "      <td>Ultimaker - Cura</td>\n",
       "    </tr>\n",
       "    <tr>\n",
       "      <th>3</th>\n",
       "      <td>17</td>\n",
       "      <td>Student</td>\n",
       "      <td>Mechanical</td>\n",
       "      <td>Student Org.</td>\n",
       "      <td>ASME Design Team</td>\n",
       "      <td>Design Team</td>\n",
       "      <td>https://drive.google.com/open?id=1Z7hWNZatw00U...</td>\n",
       "      <td>PLA</td>\n",
       "      <td>None</td>\n",
       "      <td>7.0</td>\n",
       "      <td>0.0</td>\n",
       "      <td>12:36:00</td>\n",
       "      <td>0.46</td>\n",
       "      <td>Dodo</td>\n",
       "      <td>Ultimaker - Cura</td>\n",
       "    </tr>\n",
       "    <tr>\n",
       "      <th>4</th>\n",
       "      <td>21</td>\n",
       "      <td>Student</td>\n",
       "      <td>Biomedical</td>\n",
       "      <td>Class Project</td>\n",
       "      <td>cell holder</td>\n",
       "      <td>bme design\\r\\n</td>\n",
       "      <td>https://drive.google.com/open?id=19DFerRu38wld...</td>\n",
       "      <td>PLA</td>\n",
       "      <td>None</td>\n",
       "      <td>48.0</td>\n",
       "      <td>0.0</td>\n",
       "      <td>9:43:00</td>\n",
       "      <td>3.17</td>\n",
       "      <td>Great Auk</td>\n",
       "      <td>Ultimaker - Cura</td>\n",
       "    </tr>\n",
       "    <tr>\n",
       "      <th>5</th>\n",
       "      <td>10</td>\n",
       "      <td>Student</td>\n",
       "      <td>Mechanical</td>\n",
       "      <td>Student Org.</td>\n",
       "      <td>A mold piece for a wheel</td>\n",
       "      <td>A mars rover</td>\n",
       "      <td>https://drive.google.com/open?id=1yRZAiQruZBkW...</td>\n",
       "      <td>PLA</td>\n",
       "      <td>None</td>\n",
       "      <td>127.0</td>\n",
       "      <td>0.0</td>\n",
       "      <td>20:00:00</td>\n",
       "      <td>8.38</td>\n",
       "      <td>Weka</td>\n",
       "      <td>Ultimaker - Cura</td>\n",
       "    </tr>\n",
       "  </tbody>\n",
       "</table>\n",
       "</div>"
      ],
      "text/plain": [
       "  Timestamp   person  department           role                      part  \\\n",
       "1        11  Student  Mechanical   Student Org.        Wind Turbine Blade   \n",
       "2        14  Student  Mechanical       Research            Aneurysm model   \n",
       "3        17  Student  Mechanical   Student Org.          ASME Design Team   \n",
       "4        21  Student  Biomedical  Class Project               cell holder   \n",
       "5        10  Student  Mechanical   Student Org.  A mold piece for a wheel   \n",
       "\n",
       "                                        purpose  \\\n",
       "1  WiscWind - Wind Turbine Competition Research   \n",
       "2         Research project for graduate student   \n",
       "3                                   Design Team   \n",
       "4                                bme design\\r\\n   \n",
       "5                                  A mars rover   \n",
       "\n",
       "  Please upload the STL file of the part you are printing MaterialOne  \\\n",
       "1  https://drive.google.com/open?id=1YOU968q45hsf...              PLA   \n",
       "2  https://drive.google.com/open?id=1AQmFRaGLq_Ar...              PVA   \n",
       "3  https://drive.google.com/open?id=1Z7hWNZatw00U...              PLA   \n",
       "4  https://drive.google.com/open?id=19DFerRu38wld...              PLA   \n",
       "5  https://drive.google.com/open?id=1yRZAiQruZBkW...              PLA   \n",
       "\n",
       "  MaterialTwo  AmountOne  AmountTwo      time  Cost    printer  \\\n",
       "1        None       20.0        0.0   5:47:00  1.32       Dodo   \n",
       "2        None       45.0        0.0  12:19:00  5.85       Kiwi   \n",
       "3        None        7.0        0.0  12:36:00  0.46       Dodo   \n",
       "4        None       48.0        0.0   9:43:00  3.17  Great Auk   \n",
       "5        None      127.0        0.0  20:00:00  8.38       Weka   \n",
       "\n",
       "            machine  \n",
       "1  Ultimaker - Cura  \n",
       "2  Ultimaker - Cura  \n",
       "3  Ultimaker - Cura  \n",
       "4  Ultimaker - Cura  \n",
       "5  Ultimaker - Cura  "
      ]
     },
     "execution_count": 3,
     "metadata": {},
     "output_type": "execute_result"
    }
   ],
   "source": [
    "df.head()\n",
    "\n"
   ]
  },
  {
   "cell_type": "code",
   "execution_count": 5,
   "metadata": {},
   "outputs": [
    {
     "name": "stdout",
     "output_type": "stream",
     "text": [
      "[ 0  2  4  6  8 10 12 14 16 18 20 22 24 26 28 30 32 34 36 38]\n",
      "109.56\n"
     ]
    },
    {
     "data": {
      "image/png": "[encoded data removed]",
      "text/plain": [
       "<Figure size 432x288 with 1 Axes>"
      ]
     },
     "metadata": {
      "needs_background": "light"
     },
     "output_type": "display_data"
    }
   ],
   "source": [
    "fig = plt.figure()\n",
    "bins = np.arange(0, 40, 2)\n",
    "print(bins)\n",
    "print(max(df.Cost))\n",
    "plt.hist(df.Cost, bins=bins)\n",
    "plt.xlabel('Price'); plt.ylabel('Print'); plt.title('Price of 3D Prints')\n",
    "fig.savefig('Price_of_3D_Prints.png')"
   ]
  },
  {
   "cell_type": "code",
   "execution_count": 6,
   "metadata": {},
   "outputs": [],
   "source": [
    "ultimaker = df.loc[df['machine'] == 'Ultimaker - Cura']\n",
    "form = df.loc[df['machine'] == 'Form 2 - Preform']\n",
    "markforge = df.loc[df['machine'] == 'Markforged - Eiger (https://www.eiger.io/signin)']\n"
   ]
  },
  {
   "cell_type": "code",
   "execution_count": 10,
   "metadata": {},
   "outputs": [
    {
     "data": {
      "image/png": "[encoded data removed]",
      "text/plain": [
       "<Figure size 432x288 with 1 Axes>"
      ]
     },
     "metadata": {
      "needs_background": "light"
     },
     "output_type": "display_data"
    }
   ],
   "source": [
    "fig = plt.figure()\n",
    "plt.hist(ultimaker.Cost, bins=bins)\n",
    "plt.xlabel('Price'); plt.ylabel('Print'); plt.title('Ultimaker: Price of 3D Prints')\n",
    "fig.savefig('Ultimaker_Price_Of_3D_Prints.png')"
   ]
  },
  {
   "cell_type": "code",
   "execution_count": 11,
   "metadata": {},
   "outputs": [
    {
     "name": "stdout",
     "output_type": "stream",
     "text": [
      "56.6\n"
     ]
    },
    {
     "data": {
      "image/png": "[encoded data removed]",
      "text/plain": [
       "<Figure size 432x288 with 1 Axes>"
      ]
     },
     "metadata": {
      "needs_background": "light"
     },
     "output_type": "display_data"
    }
   ],
   "source": [
    "fig = plt.figure()\n",
    "plt.hist(form.Cost, bins=bins, color='#fc4f30')\n",
    "print(max(form.Cost))\n",
    "plt.xlabel('Price'); plt.ylabel('Print'); plt.title('Form 2: Price of 3D Prints')\n",
    "fig.savefig('Form_2_Price_Of_3D_Prints.png')"
   ]
  },
  {
   "cell_type": "code",
   "execution_count": 12,
   "metadata": {},
   "outputs": [
    {
     "name": "stdout",
     "output_type": "stream",
     "text": [
      "62.95\n"
     ]
    },
    {
     "data": {
      "image/png": "[encoded data removed]",
      "text/plain": [
       "<Figure size 432x288 with 1 Axes>"
      ]
     },
     "metadata": {
      "needs_background": "light"
     },
     "output_type": "display_data"
    }
   ],
   "source": [
    "markbins = np.arange(0, 40, 5)\n",
    "fig = plt.figure()\n",
    "plt.hist(markforge.Cost, bins=bins, color='#e5ae38')\n",
    "print(max(markforge.Cost))\n",
    "plt.xlabel('Price'); plt.ylabel('Print'); plt.title('Markforge: Price of 3D Prints')\n",
    "fig.savefig('Markforge_Price_Of_3D_Prints.png')"
   ]
  },
  {
   "cell_type": "code",
   "execution_count": 16,
   "metadata": {},
   "outputs": [
    {
     "data": {
      "text/plain": [
       "<Figure size 432x288 with 0 Axes>"
      ]
     },
     "metadata": {},
     "output_type": "display_data"
    },
    {
     "data": {
      "text/plain": [
       "<Figure size 432x288 with 0 Axes>"
      ]
     },
     "metadata": {},
     "output_type": "display_data"
    },
    {
     "data": {
      "image/png": "[encoded data removed]",
      "text/plain": [
       "<Figure size 432x288 with 1 Axes>"
      ]
     },
     "metadata": {
      "needs_background": "light"
     },
     "output_type": "display_data"
    }
   ],
   "source": [
    "plt.clf()\n",
    "df4 = pd.DataFrame({'Ultimaker': ultimaker.Cost, 'Form 2': form.Cost,\n",
    "                  'markforge': markforge.Cost}, columns=['Ultimaker', 'Form 2', 'markforge'])\n",
    "fig = plt.figure()\n",
    "ax = df4.plot.hist(bins=bins)\n",
    "fig = ax.get_figure()\n",
    "plt.xlabel('Price'); plt.ylabel('Print'); plt.title('Price of 3D Prints')\n",
    "fig.savefig('Price_Of_3D_Prints.png')"
   ]
  },
  {
   "cell_type": "code",
   "execution_count": null,
   "metadata": {},
   "outputs": [],
   "source": []
  }
 ],
 "metadata": {
  "kernelspec": {
   "display_name": "printerviz",
   "language": "python",
   "name": "printerviz"
  },
  "language_info": {
   "codemirror_mode": {
    "name": "ipython",
    "version": 3
   },
   "file_extension": ".py",
   "mimetype": "text/x-python",
   "name": "python",
   "nbconvert_exporter": "python",
   "pygments_lexer": "ipython3",
   "version": "3.6.8"
  }
 },
 "nbformat": 4,
 "nbformat_minor": 2
}
